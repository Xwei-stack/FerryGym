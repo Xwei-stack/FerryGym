{
 "cells": [
  {
   "cell_type": "markdown",
   "metadata": {},
   "source": [
    "# Notebook for playing around with FerryGymENV"
   ]
  },
  {
   "cell_type": "code",
   "execution_count": 12,
   "metadata": {},
   "outputs": [],
   "source": [
    "# display sea_land_grid\n",
    "\n",
    "import json\n",
    "import os\n",
    "import numpy as np\n",
    "with open('/workspace/FerryGymEnv/sea-land.json', 'r') as f:\n",
    "    data = json.load(f)\n",
    "\n",
    "coordinates = [] \n",
    "for i in range(len(data)):\n",
    "    coordinates.append([data[i][\"lng\"], data[i][\"lat\"]])\n",
    "\n",
    "# output coordinates as json\n",
    "with open('/workspace/FerryGymEnv/sea-land-coordinates.json', 'w') as f:\n",
    "    json.dump(coordinates, f)\n",
    "        "
   ]
  }
 ],
 "metadata": {
  "kernelspec": {
   "display_name": "Python 3.9.12 ('workspace-dqq3IVyd')",
   "language": "python",
   "name": "python3"
  },
  "language_info": {
   "codemirror_mode": {
    "name": "ipython",
    "version": 3
   },
   "file_extension": ".py",
   "mimetype": "text/x-python",
   "name": "python",
   "nbconvert_exporter": "python",
   "pygments_lexer": "ipython3",
   "version": "3.9.12"
  },
  "orig_nbformat": 4,
  "vscode": {
   "interpreter": {
    "hash": "98bff4cb4aa4b884ece67f7e2958abe4a1b89abafae564f12c809048d10f21d8"
   }
  }
 },
 "nbformat": 4,
 "nbformat_minor": 2
}
